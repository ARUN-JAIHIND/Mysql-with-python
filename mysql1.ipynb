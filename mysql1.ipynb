{
 "cells": [
  {
   "cell_type": "code",
   "execution_count": 1,
   "id": "cb59bf45",
   "metadata": {},
   "outputs": [
    {
     "name": "stdout",
     "output_type": "stream",
     "text": [
      "<mysql.connector.connection_cext.CMySQLConnection object at 0x0000028AFB5870A0>\n"
     ]
    }
   ],
   "source": [
    "#for making connection between python and mysql\n",
    "import mysql.connector as conn\n",
    "mydb=conn.connect(host=\"localhost\",user=\"root\",passwd=\"abc123456\")\n",
    "print(mydb)"
   ]
  },
  {
   "cell_type": "code",
   "execution_count": 2,
   "id": "d3c65686",
   "metadata": {},
   "outputs": [],
   "source": [
    "cursor=mydb.cursor()"
   ]
  },
  {
   "cell_type": "code",
   "execution_count": 3,
   "id": "bfdfeb4d",
   "metadata": {},
   "outputs": [],
   "source": [
    "cursor.execute(\"show databases\")"
   ]
  },
  {
   "cell_type": "code",
   "execution_count": 4,
   "id": "b3241a78",
   "metadata": {},
   "outputs": [
    {
     "name": "stdout",
     "output_type": "stream",
     "text": [
      "[('information_schema',), ('mysql',), ('performance_schema',), ('sakila',), ('sys',), ('world',)]\n"
     ]
    }
   ],
   "source": [
    "print(cursor.fetchall())"
   ]
  },
  {
   "cell_type": "code",
   "execution_count": 6,
   "id": "cd05d44f",
   "metadata": {},
   "outputs": [],
   "source": [
    "# create new database\n",
    "cursor.execute(\"create database arun\")"
   ]
  },
  {
   "cell_type": "code",
   "execution_count": 7,
   "id": "c1fe4ab4",
   "metadata": {},
   "outputs": [],
   "source": [
    "cursor.execute(\"show databases\")"
   ]
  },
  {
   "cell_type": "code",
   "execution_count": 8,
   "id": "c008ddf9",
   "metadata": {},
   "outputs": [
    {
     "name": "stdout",
     "output_type": "stream",
     "text": [
      "[('arun',), ('information_schema',), ('mysql',), ('performance_schema',), ('sakila',), ('sys',), ('world',)]\n"
     ]
    }
   ],
   "source": [
    "print(cursor.fetchall())"
   ]
  },
  {
   "cell_type": "code",
   "execution_count": 9,
   "id": "24fe49e6",
   "metadata": {},
   "outputs": [],
   "source": [
    "#create table in date base\n",
    "s=\"create table arun.mycom(employee_id int(10),emp_name varchar(20),emp_email varchar(20),emp_salary int(10))\""
   ]
  },
  {
   "cell_type": "code",
   "execution_count": 10,
   "id": "54c8b156",
   "metadata": {},
   "outputs": [],
   "source": [
    "cursor.execute(s)"
   ]
  },
  {
   "cell_type": "code",
   "execution_count": 11,
   "id": "e64a6269",
   "metadata": {},
   "outputs": [],
   "source": [
    "cursor.execute(\"select * from arun.mycom\")"
   ]
  },
  {
   "cell_type": "code",
   "execution_count": 12,
   "id": "3992cf6e",
   "metadata": {},
   "outputs": [
    {
     "name": "stdout",
     "output_type": "stream",
     "text": [
      "[]\n"
     ]
    }
   ],
   "source": [
    "print(cursor.fetchall())"
   ]
  },
  {
   "cell_type": "code",
   "execution_count": 16,
   "id": "ea45c89f",
   "metadata": {},
   "outputs": [],
   "source": [
    "#insert data in table\n",
    "m=\"insert into arun.mycom values(111,'arun kumar','arun.kumar@mail.com',1000)\""
   ]
  },
  {
   "cell_type": "code",
   "execution_count": 17,
   "id": "4466be9e",
   "metadata": {},
   "outputs": [],
   "source": [
    "cursor.execute(m)"
   ]
  },
  {
   "cell_type": "code",
   "execution_count": 18,
   "id": "1a3ad57d",
   "metadata": {},
   "outputs": [],
   "source": [
    "#commit is necessary for insert value in table\n",
    "mydb.commit()"
   ]
  },
  {
   "cell_type": "code",
   "execution_count": 19,
   "id": "f9021bfa",
   "metadata": {},
   "outputs": [],
   "source": [
    "cursor.execute(\"select * from arun.mycom\")"
   ]
  },
  {
   "cell_type": "code",
   "execution_count": 20,
   "id": "f7001211",
   "metadata": {},
   "outputs": [
    {
     "name": "stdout",
     "output_type": "stream",
     "text": [
      "[(111, 'arun kumar', 'arun.kumar@mail.com', 1000)]\n"
     ]
    }
   ],
   "source": [
    "print(cursor.fetchall())"
   ]
  },
  {
   "cell_type": "code",
   "execution_count": 21,
   "id": "9baded07",
   "metadata": {},
   "outputs": [],
   "source": [
    "cursor.execute(\"select employee_id from arun.mycom\")"
   ]
  },
  {
   "cell_type": "code",
   "execution_count": 22,
   "id": "bc635e98",
   "metadata": {},
   "outputs": [
    {
     "name": "stdout",
     "output_type": "stream",
     "text": [
      "[(111,)]\n"
     ]
    }
   ],
   "source": [
    "print(cursor.fetchall())"
   ]
  },
  {
   "cell_type": "code",
   "execution_count": 23,
   "id": "f144a7d3",
   "metadata": {},
   "outputs": [],
   "source": [
    "m=\"insert into arun.mycom values(112,'Trun kumar','tarun.kumar@mail.com',1000)\"\n",
    "cursor.execute(m)\n",
    "mydb.commit()"
   ]
  },
  {
   "cell_type": "code",
   "execution_count": 24,
   "id": "53b74582",
   "metadata": {},
   "outputs": [],
   "source": [
    "cursor.execute(\"select * from arun.mycom\")"
   ]
  },
  {
   "cell_type": "code",
   "execution_count": 25,
   "id": "24deea6e",
   "metadata": {},
   "outputs": [
    {
     "name": "stdout",
     "output_type": "stream",
     "text": [
      "(111, 'arun kumar', 'arun.kumar@mail.com', 1000)\n",
      "(112, 'Trun kumar', 'tarun.kumar@mail.com', 1000)\n"
     ]
    }
   ],
   "source": [
    "for i in cursor.fetchall():\n",
    "    print(i)"
   ]
  },
  {
   "cell_type": "code",
   "execution_count": null,
   "id": "0eb37d64",
   "metadata": {},
   "outputs": [],
   "source": []
  }
 ],
 "metadata": {
  "kernelspec": {
   "display_name": "Python 3 (ipykernel)",
   "language": "python",
   "name": "python3"
  },
  "language_info": {
   "codemirror_mode": {
    "name": "ipython",
    "version": 3
   },
   "file_extension": ".py",
   "mimetype": "text/x-python",
   "name": "python",
   "nbconvert_exporter": "python",
   "pygments_lexer": "ipython3",
   "version": "3.9.13"
  }
 },
 "nbformat": 4,
 "nbformat_minor": 5
}
